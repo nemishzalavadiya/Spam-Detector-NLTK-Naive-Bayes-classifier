{
 "cells": [
  {
   "cell_type": "code",
   "execution_count": 1,
   "metadata": {},
   "outputs": [],
   "source": [
    "from nltk.tokenize import word_tokenize"
   ]
  },
  {
   "cell_type": "code",
   "execution_count": 4,
   "metadata": {},
   "outputs": [],
   "source": [
    "Document=[ \"there was a place on my ankle that was itching\",\n",
    "\"but I did not scratch it\",\n",
    "\"and then my ear began to itch\",\n",
    "\"and next my back\"]"
   ]
  },
  {
   "cell_type": "code",
   "execution_count": 18,
   "metadata": {},
   "outputs": [],
   "source": [
    "words = set()\n",
    "for string in Document:\n",
    "    for j in word_tokenize(string):\n",
    "        words.add(j)"
   ]
  },
  {
   "cell_type": "code",
   "execution_count": 19,
   "metadata": {},
   "outputs": [
    {
     "name": "stdout",
     "output_type": "stream",
     "text": [
      "{'itch', 'a', 'did', 'it', 'back', 'that', 'then', 'and', 'but', 'my', 'itching', 'began', 'not', 'there', 'ankle', 'place', 'on', 'next', 'was', 'to', 'scratch', 'ear', 'I'}\n"
     ]
    }
   ],
   "source": [
    "print(words)"
   ]
  },
  {
   "cell_type": "code",
   "execution_count": 25,
   "metadata": {},
   "outputs": [
    {
     "name": "stdout",
     "output_type": "stream",
     "text": [
      "[['itch', 'a', 'did', 'it', 'back', 'that', 'then', 'and', 'but', 'my', 'itching', 'began', 'not', 'there', 'ankle', 'place', 'on', 'next', 'was', 'to', 'scratch', 'ear', 'I']]\n"
     ]
    }
   ],
   "source": [
    "bag_matrix = [[]]\n",
    "for word in words:\n",
    "    bag_matrix[0].append(word)\n",
    "print(bag_matrix)"
   ]
  },
  {
   "cell_type": "code",
   "execution_count": 26,
   "metadata": {},
   "outputs": [],
   "source": [
    "for string in Document:\n",
    "    bag_of_freq=[]\n",
    "    for label in bag_matrix[0]:\n",
    "        if label in string:\n",
    "            count  = string.count(label)\n",
    "            bag_of_freq.append(count)\n",
    "        else:\n",
    "            bag_of_freq.append(0)\n",
    "    bag_matrix.append(bag_of_freq)"
   ]
  },
  {
   "cell_type": "code",
   "execution_count": 27,
   "metadata": {},
   "outputs": [
    {
     "name": "stdout",
     "output_type": "stream",
     "text": [
      "[['itch', 'a', 'did', 'it', 'back', 'that', 'then', 'and', 'but', 'my', 'itching', 'began', 'not', 'there', 'ankle', 'place', 'on', 'next', 'was', 'to', 'scratch', 'ear', 'I'], [1, 6, 0, 1, 0, 1, 0, 0, 0, 1, 1, 0, 0, 1, 1, 1, 1, 0, 2, 0, 0, 0, 0], [0, 1, 1, 1, 0, 0, 0, 0, 1, 0, 0, 0, 1, 0, 0, 0, 0, 0, 0, 0, 1, 0, 1], [1, 3, 0, 1, 0, 0, 1, 1, 0, 1, 0, 1, 0, 0, 0, 0, 0, 0, 0, 1, 0, 1, 0], [0, 2, 0, 0, 1, 0, 0, 1, 0, 1, 0, 0, 0, 0, 0, 0, 0, 1, 0, 0, 0, 0, 0]]\n"
     ]
    }
   ],
   "source": [
    "print(bag_matrix)"
   ]
  },
  {
   "cell_type": "markdown",
   "metadata": {},
   "source": [
    "### Here first row is label whereas other are freq. refer as bag-of-word of fre."
   ]
  },
  {
   "cell_type": "code",
   "execution_count": 28,
   "metadata": {},
   "outputs": [
    {
     "name": "stdout",
     "output_type": "stream",
     "text": [
      "['itch', 'a', 'did', 'it', 'back', 'that', 'then', 'and', 'but', 'my', 'itching', 'began', 'not', 'there', 'ankle', 'place', 'on', 'next', 'was', 'to', 'scratch', 'ear', 'I']\n",
      "[1, 6, 0, 1, 0, 1, 0, 0, 0, 1, 1, 0, 0, 1, 1, 1, 1, 0, 2, 0, 0, 0, 0]\n",
      "[0, 1, 1, 1, 0, 0, 0, 0, 1, 0, 0, 0, 1, 0, 0, 0, 0, 0, 0, 0, 1, 0, 1]\n",
      "[1, 3, 0, 1, 0, 0, 1, 1, 0, 1, 0, 1, 0, 0, 0, 0, 0, 0, 0, 1, 0, 1, 0]\n",
      "[0, 2, 0, 0, 1, 0, 0, 1, 0, 1, 0, 0, 0, 0, 0, 0, 0, 1, 0, 0, 0, 0, 0]\n"
     ]
    }
   ],
   "source": [
    "for i in bag_matrix:\n",
    "    print(i)"
   ]
  },
  {
   "cell_type": "code",
   "execution_count": null,
   "metadata": {},
   "outputs": [],
   "source": []
  }
 ],
 "metadata": {
  "kernelspec": {
   "display_name": "Python 3",
   "language": "python",
   "name": "python3"
  },
  "language_info": {
   "codemirror_mode": {
    "name": "ipython",
    "version": 3
   },
   "file_extension": ".py",
   "mimetype": "text/x-python",
   "name": "python",
   "nbconvert_exporter": "python",
   "pygments_lexer": "ipython3",
   "version": "3.7.1rc2"
  }
 },
 "nbformat": 4,
 "nbformat_minor": 4
}
